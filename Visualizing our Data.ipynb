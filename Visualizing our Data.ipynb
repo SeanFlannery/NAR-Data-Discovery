{
 "cells": [
  {
   "cell_type": "markdown",
   "metadata": {},
   "source": [
    "# Modeling our Data"
   ]
  },
  {
   "cell_type": "markdown",
   "metadata": {},
   "source": [
    "Author: Sean Flannery [sflanner@purdue.edu](sflanner@purdue.edu)\n",
    "\n",
    "Last Updated: June 15th, 2019"
   ]
  },
  {
   "cell_type": "markdown",
   "metadata": {},
   "source": [
    "**Libraries Needed**: plotly, pandas, numpy, os, gensim, nltk, tqdm, sklearn"
   ]
  },
  {
   "cell_type": "markdown",
   "metadata": {},
   "source": [
    "We shall use the `pandas` framework to read in this data into a pandas dataframe. We will be using it extensively throughout this notebook -- for more information on pandas, I'd check out this [Tutorial](https://www.learnpython.org/en/Pandas_Basics)"
   ]
  },
  {
   "cell_type": "code",
   "execution_count": 1,
   "metadata": {},
   "outputs": [],
   "source": [
    "FILE_PREFIX = ''"
   ]
  },
  {
   "cell_type": "code",
   "execution_count": 2,
   "metadata": {},
   "outputs": [],
   "source": [
    "import pandas as pd\n",
    "import numpy as np\n",
    "from tqdm import tqdm_notebook as tqdm\n",
    "import os\n",
    "import collections\n",
    "import random"
   ]
  },
  {
   "cell_type": "markdown",
   "metadata": {},
   "source": []
  },
  {
   "cell_type": "code",
   "execution_count": 3,
   "metadata": {},
   "outputs": [
    {
     "data": {
      "text/plain": [
       "'3.10.0'"
      ]
     },
     "execution_count": 3,
     "metadata": {},
     "output_type": "execute_result"
    }
   ],
   "source": [
    "import plotly\n",
    "plotly.__version__"
   ]
  },
  {
   "cell_type": "markdown",
   "metadata": {},
   "source": [
    "Recommendation for how to do sizeref\n",
    "`sizeref = 2. * max(array of size values) / (desired maximum marker size ** 2)`\n",
    "\n",
    "This recommendation comes from [this tutorial](https://plot.ly/python/bubble-maps/)"
   ]
  },
  {
   "cell_type": "code",
   "execution_count": 4,
   "metadata": {},
   "outputs": [],
   "source": [
    "import plotly.plotly as py\n",
    "import plotly.graph_objs as go\n",
    "import pandas as pd\n",
    "import math"
   ]
  },
  {
   "cell_type": "markdown",
   "metadata": {},
   "source": [
    "Read in our data from the last section for this part."
   ]
  },
  {
   "cell_type": "code",
   "execution_count": 5,
   "metadata": {},
   "outputs": [],
   "source": [
    "DESIRED_CLUSTER = 'xmeans_cluster'\n",
    "#DESIRED_CLUSTER = 'kmeans_cluster'\n",
    "#DESIRED_CLUSTER = 'markov_cluster'\n",
    "#DESIRED_CLUSTER = 'hierarchical_cluster'"
   ]
  },
  {
   "cell_type": "code",
   "execution_count": 6,
   "metadata": {},
   "outputs": [
    {
     "data": {
      "text/html": [
       "<div>\n",
       "<style scoped>\n",
       "    .dataframe tbody tr th:only-of-type {\n",
       "        vertical-align: middle;\n",
       "    }\n",
       "\n",
       "    .dataframe tbody tr th {\n",
       "        vertical-align: top;\n",
       "    }\n",
       "\n",
       "    .dataframe thead th {\n",
       "        text-align: right;\n",
       "    }\n",
       "</style>\n",
       "<table border=\"1\" class=\"dataframe\">\n",
       "  <thead>\n",
       "    <tr style=\"text-align: right;\">\n",
       "      <th></th>\n",
       "      <th>year</th>\n",
       "      <th>title</th>\n",
       "      <th>abstract</th>\n",
       "      <th>introduction</th>\n",
       "      <th>article-link</th>\n",
       "      <th>xmeans_cluster</th>\n",
       "      <th>kmeans_cluster</th>\n",
       "      <th>pca_feature1</th>\n",
       "      <th>pca_feature2</th>\n",
       "      <th>pca_feature3</th>\n",
       "    </tr>\n",
       "  </thead>\n",
       "  <tbody>\n",
       "    <tr>\n",
       "      <th>0</th>\n",
       "      <td>2019</td>\n",
       "      <td>Database Resources of the BIG Data Center in 2019</td>\n",
       "      <td>The BIG Data Center at Beijing Institute of Ge...</td>\n",
       "      <td>The BIG Data Center (http://bigd.big.ac.cn) at...</td>\n",
       "      <td>https://doi.org/10.1093/nar/gky993</td>\n",
       "      <td>122</td>\n",
       "      <td>2</td>\n",
       "      <td>-2.561820</td>\n",
       "      <td>-1.052873</td>\n",
       "      <td>1.107861</td>\n",
       "    </tr>\n",
       "    <tr>\n",
       "      <th>1</th>\n",
       "      <td>2019</td>\n",
       "      <td>The European Bioinformatics Institute in 2018:...</td>\n",
       "      <td>The European Bioinformatics Institute (https:/...</td>\n",
       "      <td>A primary mission of EMBL-EBI is to collect, o...</td>\n",
       "      <td>https://doi.org/10.1093/nar/gky1124</td>\n",
       "      <td>53</td>\n",
       "      <td>32</td>\n",
       "      <td>-0.760801</td>\n",
       "      <td>3.730246</td>\n",
       "      <td>0.050672</td>\n",
       "    </tr>\n",
       "    <tr>\n",
       "      <th>2</th>\n",
       "      <td>2019</td>\n",
       "      <td>Database resources of the National Center for ...</td>\n",
       "      <td>The National Center for Biotechnology Informat...</td>\n",
       "      <td>The National Center for Biotechnology Informat...</td>\n",
       "      <td>https://doi.org/10.1093/nar/gky1069</td>\n",
       "      <td>56</td>\n",
       "      <td>29</td>\n",
       "      <td>0.409270</td>\n",
       "      <td>0.206475</td>\n",
       "      <td>0.310989</td>\n",
       "    </tr>\n",
       "    <tr>\n",
       "      <th>3</th>\n",
       "      <td>2019</td>\n",
       "      <td>AmtDB: a database of ancient human mitochondri...</td>\n",
       "      <td>Ancient mitochondrial DNA is used for tracing ...</td>\n",
       "      <td>Ancient DNA (aDNA) is a genetic material obtai...</td>\n",
       "      <td>https://doi.org/10.1093/nar/gky843</td>\n",
       "      <td>48</td>\n",
       "      <td>19</td>\n",
       "      <td>12.458119</td>\n",
       "      <td>-5.506885</td>\n",
       "      <td>4.119361</td>\n",
       "    </tr>\n",
       "    <tr>\n",
       "      <th>4</th>\n",
       "      <td>2019</td>\n",
       "      <td>AnimalTFDB 3.0: a comprehensive resource for a...</td>\n",
       "      <td>The Animal Transcription Factor DataBase (Anim...</td>\n",
       "      <td>Transcription factors (TFs) are special protei...</td>\n",
       "      <td>https://doi.org/10.1093/nar/gky822</td>\n",
       "      <td>124</td>\n",
       "      <td>2</td>\n",
       "      <td>-5.437143</td>\n",
       "      <td>-1.979282</td>\n",
       "      <td>2.420911</td>\n",
       "    </tr>\n",
       "  </tbody>\n",
       "</table>\n",
       "</div>"
      ],
      "text/plain": [
       "   year                                              title  \\\n",
       "0  2019  Database Resources of the BIG Data Center in 2019   \n",
       "1  2019  The European Bioinformatics Institute in 2018:...   \n",
       "2  2019  Database resources of the National Center for ...   \n",
       "3  2019  AmtDB: a database of ancient human mitochondri...   \n",
       "4  2019  AnimalTFDB 3.0: a comprehensive resource for a...   \n",
       "\n",
       "                                            abstract  \\\n",
       "0  The BIG Data Center at Beijing Institute of Ge...   \n",
       "1  The European Bioinformatics Institute (https:/...   \n",
       "2  The National Center for Biotechnology Informat...   \n",
       "3  Ancient mitochondrial DNA is used for tracing ...   \n",
       "4  The Animal Transcription Factor DataBase (Anim...   \n",
       "\n",
       "                                        introduction  \\\n",
       "0  The BIG Data Center (http://bigd.big.ac.cn) at...   \n",
       "1  A primary mission of EMBL-EBI is to collect, o...   \n",
       "2  The National Center for Biotechnology Informat...   \n",
       "3  Ancient DNA (aDNA) is a genetic material obtai...   \n",
       "4  Transcription factors (TFs) are special protei...   \n",
       "\n",
       "                          article-link  xmeans_cluster  kmeans_cluster  \\\n",
       "0   https://doi.org/10.1093/nar/gky993             122               2   \n",
       "1  https://doi.org/10.1093/nar/gky1124              53              32   \n",
       "2  https://doi.org/10.1093/nar/gky1069              56              29   \n",
       "3   https://doi.org/10.1093/nar/gky843              48              19   \n",
       "4   https://doi.org/10.1093/nar/gky822             124               2   \n",
       "\n",
       "   pca_feature1  pca_feature2  pca_feature3  \n",
       "0     -2.561820     -1.052873      1.107861  \n",
       "1     -0.760801      3.730246      0.050672  \n",
       "2      0.409270      0.206475      0.310989  \n",
       "3     12.458119     -5.506885      4.119361  \n",
       "4     -5.437143     -1.979282      2.420911  "
      ]
     },
     "execution_count": 6,
     "metadata": {},
     "output_type": "execute_result"
    }
   ],
   "source": [
    "df = pd.read_csv(FILE_PREFIX + 'cluster_results.csv')[\n",
    "    ['year', \n",
    "     'title', \n",
    "     'abstract', \n",
    "     'introduction', \n",
    "     'article-link' ,\n",
    "     'xmeans_cluster', \n",
    "     'kmeans_cluster', \n",
    "     'pca_feature1', \n",
    "     'pca_feature2', \n",
    "     'pca_feature3']]\n",
    "#df = df[df.year==2019]\n",
    "df.head()"
   ]
  },
  {
   "cell_type": "markdown",
   "metadata": {},
   "source": [
    "Get the top N most common clusters from the "
   ]
  },
  {
   "cell_type": "code",
   "execution_count": 7,
   "metadata": {},
   "outputs": [
    {
     "name": "stdout",
     "output_type": "stream",
     "text": [
      "Top 10 Largest Clusters \n",
      "[(57, 121), (80, 107), (85, 84), (79, 84), (129, 83), (180, 81), (53, 76), (39, 75), (124, 71), (7, 71)]\n"
     ]
    }
   ],
   "source": [
    "from collections import Counter\n",
    "num_clusters = 10\n",
    "top_counter = Counter(df[DESIRED_CLUSTER]).most_common(num_clusters) \n",
    "print(\"Top \" + str(num_clusters) + \" Largest Clusters \")\n",
    "print(top_counter)\n",
    "top_clusters = [c[0] for c in top_counter]"
   ]
  },
  {
   "cell_type": "code",
   "execution_count": 8,
   "metadata": {},
   "outputs": [],
   "source": [
    "cluster_colors = dict()\n",
    "for c in top_clusters:\n",
    "    r = random.randint(0,255)\n",
    "    g = random.randint(0,255)\n",
    "    b = random.randint(0,255)\n",
    "    cluster_colors[c] = 'rgb(' + str(r) + ',' + str(g) + ',' + str(b) + ')'"
   ]
  },
  {
   "cell_type": "code",
   "execution_count": 9,
   "metadata": {},
   "outputs": [
    {
     "data": {
      "text/html": [
       "<div>\n",
       "<style scoped>\n",
       "    .dataframe tbody tr th:only-of-type {\n",
       "        vertical-align: middle;\n",
       "    }\n",
       "\n",
       "    .dataframe tbody tr th {\n",
       "        vertical-align: top;\n",
       "    }\n",
       "\n",
       "    .dataframe thead th {\n",
       "        text-align: right;\n",
       "    }\n",
       "</style>\n",
       "<table border=\"1\" class=\"dataframe\">\n",
       "  <thead>\n",
       "    <tr style=\"text-align: right;\">\n",
       "      <th></th>\n",
       "      <th>year</th>\n",
       "      <th>title</th>\n",
       "      <th>abstract</th>\n",
       "      <th>introduction</th>\n",
       "      <th>article-link</th>\n",
       "      <th>xmeans_cluster</th>\n",
       "      <th>kmeans_cluster</th>\n",
       "      <th>pca_feature1</th>\n",
       "      <th>pca_feature2</th>\n",
       "      <th>pca_feature3</th>\n",
       "    </tr>\n",
       "  </thead>\n",
       "  <tbody>\n",
       "    <tr>\n",
       "      <th>1</th>\n",
       "      <td>2019</td>\n",
       "      <td>The European Bioinformatics Institute in 2018:...</td>\n",
       "      <td>The European Bioinformatics Institute (https:/...</td>\n",
       "      <td>A primary mission of EMBL-EBI is to collect, o...</td>\n",
       "      <td>https://doi.org/10.1093/nar/gky1124</td>\n",
       "      <td>53</td>\n",
       "      <td>32</td>\n",
       "      <td>-0.760801</td>\n",
       "      <td>3.730246</td>\n",
       "      <td>0.050672</td>\n",
       "    </tr>\n",
       "    <tr>\n",
       "      <th>4</th>\n",
       "      <td>2019</td>\n",
       "      <td>AnimalTFDB 3.0: a comprehensive resource for a...</td>\n",
       "      <td>The Animal Transcription Factor DataBase (Anim...</td>\n",
       "      <td>Transcription factors (TFs) are special protei...</td>\n",
       "      <td>https://doi.org/10.1093/nar/gky822</td>\n",
       "      <td>124</td>\n",
       "      <td>2</td>\n",
       "      <td>-5.437143</td>\n",
       "      <td>-1.979282</td>\n",
       "      <td>2.420911</td>\n",
       "    </tr>\n",
       "    <tr>\n",
       "      <th>6</th>\n",
       "      <td>2019</td>\n",
       "      <td>ChIPprimersDB: a public repository of verified...</td>\n",
       "      <td>Chromatin immunoprecipitation (ChIP) has usher...</td>\n",
       "      <td>Polymerase chain reaction (PCR) is widely used...</td>\n",
       "      <td>https://doi.org/10.1093/nar/gky813</td>\n",
       "      <td>85</td>\n",
       "      <td>17</td>\n",
       "      <td>-0.543181</td>\n",
       "      <td>-0.780428</td>\n",
       "      <td>1.649599</td>\n",
       "    </tr>\n",
       "    <tr>\n",
       "      <th>8</th>\n",
       "      <td>2019</td>\n",
       "      <td>COXPRESdb v7: a gene coexpression database for...</td>\n",
       "      <td>The advent of RNA-sequencing and microarray te...</td>\n",
       "      <td>Owing to high-throughput technologies, a huge ...</td>\n",
       "      <td>https://doi.org/10.1093/nar/gky1155</td>\n",
       "      <td>85</td>\n",
       "      <td>29</td>\n",
       "      <td>-2.825087</td>\n",
       "      <td>0.891143</td>\n",
       "      <td>-0.628933</td>\n",
       "    </tr>\n",
       "    <tr>\n",
       "      <th>10</th>\n",
       "      <td>2019</td>\n",
       "      <td>DDBJ update: the Genomic Expression Archive (G...</td>\n",
       "      <td>The Genomic Expression Archive (GEA) for funct...</td>\n",
       "      <td>The DNA Data Bank of Japan (DDBJ,https://www.d...</td>\n",
       "      <td>https://doi.org/10.1093/nar/gky1002</td>\n",
       "      <td>85</td>\n",
       "      <td>2</td>\n",
       "      <td>-0.221178</td>\n",
       "      <td>-1.608512</td>\n",
       "      <td>2.000440</td>\n",
       "    </tr>\n",
       "  </tbody>\n",
       "</table>\n",
       "</div>"
      ],
      "text/plain": [
       "    year                                              title  \\\n",
       "1   2019  The European Bioinformatics Institute in 2018:...   \n",
       "4   2019  AnimalTFDB 3.0: a comprehensive resource for a...   \n",
       "6   2019  ChIPprimersDB: a public repository of verified...   \n",
       "8   2019  COXPRESdb v7: a gene coexpression database for...   \n",
       "10  2019  DDBJ update: the Genomic Expression Archive (G...   \n",
       "\n",
       "                                             abstract  \\\n",
       "1   The European Bioinformatics Institute (https:/...   \n",
       "4   The Animal Transcription Factor DataBase (Anim...   \n",
       "6   Chromatin immunoprecipitation (ChIP) has usher...   \n",
       "8   The advent of RNA-sequencing and microarray te...   \n",
       "10  The Genomic Expression Archive (GEA) for funct...   \n",
       "\n",
       "                                         introduction  \\\n",
       "1   A primary mission of EMBL-EBI is to collect, o...   \n",
       "4   Transcription factors (TFs) are special protei...   \n",
       "6   Polymerase chain reaction (PCR) is widely used...   \n",
       "8   Owing to high-throughput technologies, a huge ...   \n",
       "10  The DNA Data Bank of Japan (DDBJ,https://www.d...   \n",
       "\n",
       "                           article-link  xmeans_cluster  kmeans_cluster  \\\n",
       "1   https://doi.org/10.1093/nar/gky1124              53              32   \n",
       "4    https://doi.org/10.1093/nar/gky822             124               2   \n",
       "6    https://doi.org/10.1093/nar/gky813              85              17   \n",
       "8   https://doi.org/10.1093/nar/gky1155              85              29   \n",
       "10  https://doi.org/10.1093/nar/gky1002              85               2   \n",
       "\n",
       "    pca_feature1  pca_feature2  pca_feature3  \n",
       "1      -0.760801      3.730246      0.050672  \n",
       "4      -5.437143     -1.979282      2.420911  \n",
       "6      -0.543181     -0.780428      1.649599  \n",
       "8      -2.825087      0.891143     -0.628933  \n",
       "10     -0.221178     -1.608512      2.000440  "
      ]
     },
     "execution_count": 9,
     "metadata": {},
     "output_type": "execute_result"
    }
   ],
   "source": [
    "df = df[df[DESIRED_CLUSTER].isin(top_clusters)]\n",
    "df.head()"
   ]
  },
  {
   "cell_type": "code",
   "execution_count": 10,
   "metadata": {},
   "outputs": [],
   "source": [
    "df['text'] = 'Title: ' + df['title'] + '<br>Year ' + (df['year']).astype(str) + '</br><br> Cluster:' + (df[DESIRED_CLUSTER]).astype(str)\n",
    "limits = [(0,2),(3,10),(11,20),(21,50),(50,3000)]\n",
    "colors = [\"rgb(0,116,217)\",\"rgb(255,65,54)\",\"rgb(133,20,75)\",\"rgb(255,133,27)\",\"lightgrey\"]\n",
    "cities = []\n",
    "scale = 5000"
   ]
  },
  {
   "cell_type": "code",
   "execution_count": 11,
   "metadata": {},
   "outputs": [],
   "source": [
    "df.sort_values([DESIRED_CLUSTER]);\n",
    "df.sort_values(['year']);"
   ]
  },
  {
   "cell_type": "code",
   "execution_count": 12,
   "metadata": {},
   "outputs": [],
   "source": [
    "for index, row in df.iterrows():\n",
    "    row['text'] = ('Title: {title}<br>'+\n",
    "                       'Year: {year}<br>' +\n",
    "#                      'Abstract: {abstract}<br>'+\n",
    "#                      'Introduction: {introduction}<br>'+\n",
    "                      'Cluster: {cluster}<br>'\n",
    "                      ).format(title=row['title'],\n",
    "                               year=row['year'],\n",
    "#                               abstract=row['abstract'],\n",
    "#                               introduction=row['introduction'],\n",
    "                               cluster=row[DESIRED_CLUSTER])"
   ]
  },
  {
   "cell_type": "code",
   "execution_count": 13,
   "metadata": {},
   "outputs": [],
   "source": [
    "sizeref = 2*100/(100**2)"
   ]
  },
  {
   "cell_type": "code",
   "execution_count": 14,
   "metadata": {},
   "outputs": [],
   "source": [
    "def getTraceByYear(year, is3d=False):\n",
    "    tmpdf = df[df.year == year]\n",
    "    x_vals = tmpdf['pca_feature1']\n",
    "    y_vals = tmpdf['pca_feature2']\n",
    "    text = tmpdf['text']\n",
    "    size = [5] * len(tmpdf)\n",
    "    color_vals = []\n",
    "    for index, row in tmpdf.iterrows():\n",
    "        color_vals.append(cluster_colors[row[DESIRED_CLUSTER]])\n",
    "    if is3d:\n",
    "        return go.Scatter3d(\n",
    "            x=tmpdf['pca_feature1'],\n",
    "            y=tmpdf['pca_feature2'],\n",
    "            z=tmpdf['pca_feature3'],\n",
    "            mode='markers',\n",
    "            text=text,\n",
    "            name=str(year),\n",
    "            marker=dict(\n",
    "                symbol='circle',\n",
    "                sizemode='area',\n",
    "                sizeref=sizeref,\n",
    "                size=[3]*len(tmpdf),\n",
    "                color=color_vals))\n",
    "    else:\n",
    "        return go.Scatter(\n",
    "            x=tmpdf['pca_feature1'],\n",
    "            y=tmpdf['pca_feature2'],\n",
    "            mode='markers',\n",
    "            text=text,\n",
    "            name=str(year),\n",
    "            marker=dict(\n",
    "                symbol='circle',\n",
    "                sizemode='area',\n",
    "                sizeref=sizeref,\n",
    "                size=[1]*len(tmpdf),\n",
    "                color=color_vals))"
   ]
  },
  {
   "cell_type": "markdown",
   "metadata": {},
   "source": [
    "## 2D Plot of NAR Data"
   ]
  },
  {
   "cell_type": "code",
   "execution_count": 15,
   "metadata": {},
   "outputs": [],
   "source": [
    "data = []\n",
    "for year in set(list(df['year'])):\n",
    "    data.append(getTraceByYear(year))"
   ]
  },
  {
   "cell_type": "code",
   "execution_count": 16,
   "metadata": {},
   "outputs": [],
   "source": [
    "layout = go.Layout(\n",
    "    title='NAR Database Clusters 2D',\n",
    "    xaxis=dict(\n",
    "        title='PCA Component 1'\n",
    "    ),\n",
    "    yaxis=dict(\n",
    "        title='PCA Component 2'\n",
    "    ),\n",
    "    paper_bgcolor='rgb(243, 243, 243)',\n",
    "    plot_bgcolor='rgb(243, 243, 243)',\n",
    "    legend=None\n",
    ")\n",
    "\n",
    "fig = go.Figure(data=data, layout=layout)"
   ]
  },
  {
   "cell_type": "code",
   "execution_count": 17,
   "metadata": {},
   "outputs": [
    {
     "name": "stderr",
     "output_type": "stream",
     "text": [
      "/usr/local/lib/python3.7/site-packages/IPython/core/display.py:689: UserWarning:\n",
      "\n",
      "Consider using IPython.display.IFrame instead\n",
      "\n"
     ]
    },
    {
     "data": {
      "text/html": [
       "<iframe id=\"igraph\" scrolling=\"no\" style=\"border:none;\" seamless=\"seamless\" src=\"https://plot.ly/~SeanFlannery/14.embed\" height=\"525px\" width=\"100%\"></iframe>"
      ],
      "text/plain": [
       "<chart_studio.tools.PlotlyDisplay object>"
      ]
     },
     "execution_count": 17,
     "metadata": {},
     "output_type": "execute_result"
    }
   ],
   "source": [
    "py.iplot(fig, filename='Markov NAR Cluster Figures 2D')"
   ]
  },
  {
   "cell_type": "code",
   "execution_count": 18,
   "metadata": {},
   "outputs": [
    {
     "data": {
      "text/plain": [
       "'temp-plot.html'"
      ]
     },
     "execution_count": 18,
     "metadata": {},
     "output_type": "execute_result"
    }
   ],
   "source": [
    "plotly.offline.plot(fig)"
   ]
  },
  {
   "cell_type": "markdown",
   "metadata": {},
   "source": [
    "## 3D Plot of NAR Data"
   ]
  },
  {
   "cell_type": "code",
   "execution_count": 19,
   "metadata": {},
   "outputs": [],
   "source": [
    "data = []\n",
    "for year in set(list(df['year'])):\n",
    "    data.append(getTraceByYear(year, is3d=True))"
   ]
  },
  {
   "cell_type": "markdown",
   "metadata": {},
   "source": [
    "Next, we will fix the layout, which contains the title, etc. of our work."
   ]
  },
  {
   "cell_type": "code",
   "execution_count": 20,
   "metadata": {},
   "outputs": [],
   "source": [
    "layout = go.Layout(\n",
    "    title='NAR Database Clusters 3D',\n",
    "    xaxis=dict(\n",
    "        title='PCA Component 1'\n",
    "    ),\n",
    "    yaxis=dict(\n",
    "        title='PCA Component 2'\n",
    "    ),\n",
    "    paper_bgcolor='rgb(243, 243, 243)',\n",
    "    plot_bgcolor='rgb(243, 243, 243)',\n",
    "    legend=None\n",
    ")\n",
    "\n",
    "fig = go.Figure(data=data, layout=layout)"
   ]
  },
  {
   "cell_type": "code",
   "execution_count": 21,
   "metadata": {},
   "outputs": [
    {
     "name": "stderr",
     "output_type": "stream",
     "text": [
      "/usr/local/lib/python3.7/site-packages/IPython/core/display.py:689: UserWarning:\n",
      "\n",
      "Consider using IPython.display.IFrame instead\n",
      "\n"
     ]
    },
    {
     "data": {
      "text/html": [
       "<iframe id=\"igraph\" scrolling=\"no\" style=\"border:none;\" seamless=\"seamless\" src=\"https://plot.ly/~SeanFlannery/16.embed\" height=\"525px\" width=\"100%\"></iframe>"
      ],
      "text/plain": [
       "<chart_studio.tools.PlotlyDisplay object>"
      ]
     },
     "execution_count": 21,
     "metadata": {},
     "output_type": "execute_result"
    }
   ],
   "source": [
    "py.iplot(fig, filename='Markov NAR Cluster Figure 3D')"
   ]
  },
  {
   "cell_type": "code",
   "execution_count": 22,
   "metadata": {},
   "outputs": [
    {
     "data": {
      "text/plain": [
       "'temp-plot.html'"
      ]
     },
     "execution_count": 22,
     "metadata": {},
     "output_type": "execute_result"
    }
   ],
   "source": [
    "plotly.offline.plot(fig)"
   ]
  },
  {
   "cell_type": "code",
   "execution_count": null,
   "metadata": {},
   "outputs": [],
   "source": []
  },
  {
   "cell_type": "code",
   "execution_count": null,
   "metadata": {},
   "outputs": [],
   "source": []
  },
  {
   "cell_type": "code",
   "execution_count": null,
   "metadata": {},
   "outputs": [],
   "source": []
  },
  {
   "cell_type": "code",
   "execution_count": null,
   "metadata": {},
   "outputs": [],
   "source": []
  },
  {
   "cell_type": "code",
   "execution_count": null,
   "metadata": {},
   "outputs": [],
   "source": []
  }
 ],
 "metadata": {
  "kernelspec": {
   "display_name": "Python 3",
   "language": "python",
   "name": "python3"
  },
  "language_info": {
   "codemirror_mode": {
    "name": "ipython",
    "version": 3
   },
   "file_extension": ".py",
   "mimetype": "text/x-python",
   "name": "python",
   "nbconvert_exporter": "python",
   "pygments_lexer": "ipython3",
   "version": "3.7.0"
  }
 },
 "nbformat": 4,
 "nbformat_minor": 2
}
